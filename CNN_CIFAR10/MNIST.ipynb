{
  "nbformat": 4,
  "nbformat_minor": 0,
  "metadata": {
    "kernelspec": {
      "display_name": "Python 3",
      "language": "python",
      "name": "python3"
    },
    "language_info": {
      "codemirror_mode": {
        "name": "ipython",
        "version": 3
      },
      "file_extension": ".py",
      "mimetype": "text/x-python",
      "name": "python",
      "nbconvert_exporter": "python",
      "pygments_lexer": "ipython3",
      "version": "3.8.1"
    },
    "colab": {
      "name": "DeepLearning_assignment03.ipynb",
      "provenance": [],
      "include_colab_link": true
    }
  },
  "cells": [
    {
      "cell_type": "markdown",
      "metadata": {
        "id": "view-in-github",
        "colab_type": "text"
      },
      "source": [
        "<a href=\"https://colab.research.google.com/github/rishabhm4/Densenet---Keras/blob/master/CNN_CIFAR10/MNIST.ipynb\" target=\"_parent\"><img src=\"https://colab.research.google.com/assets/colab-badge.svg\" alt=\"Open In Colab\"/></a>"
      ]
    },
    {
      "cell_type": "markdown",
      "metadata": {
        "id": "ywA6tkGIqowB",
        "colab_type": "text"
      },
      "source": [
        "## CNN on CIFAR10 and MNIST"
      ]
    },
    {
      "cell_type": "code",
      "metadata": {
        "id": "fi1ngG0HqowD",
        "colab_type": "code",
        "colab": {},
        "outputId": "52a9700e-1ca2-47d1-c89e-9faa9c083ea0"
      },
      "source": [
        "import tensorflow as tf\n",
        "import numpy as np\n",
        "import matplotlib.pyplot as plt\n",
        "import numpy as np\n",
        "from keras import layers\n",
        "from keras.layers import Input, Dense, Activation, ZeroPadding2D, BatchNormalization, Flatten, Conv2D\n",
        "from keras.layers import AveragePooling2D, MaxPooling2D, Dropout, GlobalMaxPooling2D, GlobalAveragePooling2D\n",
        "from keras.models import Model\n",
        "from keras.preprocessing import image\n",
        "from keras.utils import layer_utils\n",
        "from keras.utils.data_utils import get_file\n",
        "from keras.applications.imagenet_utils import preprocess_input"
      ],
      "execution_count": 0,
      "outputs": [
        {
          "output_type": "stream",
          "text": [
            "Using TensorFlow backend.\n"
          ],
          "name": "stderr"
        }
      ]
    },
    {
      "cell_type": "markdown",
      "metadata": {
        "id": "IRRP2G3BqowI",
        "colab_type": "text"
      },
      "source": [
        "##  CIFAR image(dataset)"
      ]
    },
    {
      "cell_type": "code",
      "metadata": {
        "id": "RyIgn4x4qowI",
        "colab_type": "code",
        "colab": {}
      },
      "source": [
        "\n",
        "(train_images, train_labels), (test_images, test_labels) = tf.keras.datasets.cifar10.load_data()"
      ],
      "execution_count": 0,
      "outputs": []
    },
    {
      "cell_type": "code",
      "metadata": {
        "id": "28rdydNbqowL",
        "colab_type": "code",
        "colab": {}
      },
      "source": [
        "data = tf.data.Dataset.from_tensor_slices(\n",
        "    (train_images.reshape([-1, 32,32,3]).astype(np.float32) / 255, train_labels.astype(np.int32)))\n",
        "data = data.shuffle(buffer_size=40000).batch(128).repeat()"
      ],
      "execution_count": 0,
      "outputs": []
    },
    {
      "cell_type": "code",
      "metadata": {
        "id": "b6obrM46qowO",
        "colab_type": "code",
        "colab": {},
        "outputId": "2e8dc7ee-516b-4799-93c7-e63019f24c9a"
      },
      "source": [
        "print(train_labels[100])\n",
        "plt.imshow(train_images[100], cmap=\"Greys_r\")"
      ],
      "execution_count": 0,
      "outputs": [
        {
          "output_type": "stream",
          "text": [
            "[8]\n"
          ],
          "name": "stdout"
        },
        {
          "output_type": "execute_result",
          "data": {
            "text/plain": [
              "<matplotlib.image.AxesImage at 0x1ffb8949490>"
            ]
          },
          "metadata": {
            "tags": []
          },
          "execution_count": 4
        },
        {
          "output_type": "display_data",
          "data": {
            "image/png": "[encoded data removed]",
            "text/plain": [
              "<Figure size 432x288 with 1 Axes>"
            ]
          },
          "metadata": {
            "tags": [],
            "needs_background": "light"
          }
        }
      ]
    },
    {
      "cell_type": "markdown",
      "metadata": {
        "id": "DQ7ZtVk4qowR",
        "colab_type": "text"
      },
      "source": [
        "####  the model using 'keras.layers'"
      ]
    },
    {
      "cell_type": "code",
      "metadata": {
        "id": "pqKWcSZOqowR",
        "colab_type": "code",
        "colab": {}
      },
      "source": [
        "train_steps = 1500\n",
        "\n",
        "layer_list = [ tf.keras.layers.Conv2D(filters = 64,kernel_size=3,padding='same',activation=tf.nn.relu),\n",
        "              tf.keras.layers.Conv2D(filters = 64,kernel_size=3,padding='same',activation=tf.nn.relu),\n",
        "               tf.keras.layers.MaxPool2D(pool_size=(2,2),strides=2),\n",
        "              tf.keras.layers.Dropout(0.5),\n",
        "              \n",
        "              tf.keras.layers.Conv2D(filters=128,kernel_size=3,padding='same',activation=tf.nn.relu),\n",
        "               tf.keras.layers.Conv2D(filters=128,kernel_size=3,padding='same',activation=tf.nn.relu),\n",
        "               tf.keras.layers.MaxPool2D(pool_size=(2,2),strides=2),\n",
        "              tf.keras.layers.Dropout(0.5),\n",
        "              \n",
        "               tf.keras.layers.Conv2D(filters=128,kernel_size=3,padding='same',activation=tf.nn.relu),\n",
        "               tf.keras.layers.MaxPool2D(pool_size=(2,2),strides=2),\n",
        "                    \n",
        "              \n",
        "              tf.keras.layers.Conv2D(filters=256,kernel_size=3,padding='same',activation=tf.nn.relu),\n",
        "               tf.keras.layers.MaxPool2D(pool_size=(2,2),strides=2),\n",
        "              \n",
        "              tf.keras.layers.Flatten(),\n",
        "              tf.keras.layers.Dense(10,activation='softmax')]  \n",
        "model = tf.keras.Sequential(layer_list)"
      ],
      "execution_count": 0,
      "outputs": []
    },
    {
      "cell_type": "code",
      "metadata": {
        "id": "4lWOsjLQqowU",
        "colab_type": "code",
        "colab": {}
      },
      "source": [
        "opt = tf.optimizers.Adam(0.001)\n",
        "# from_logits = True!! #neverforget\n",
        "loss_fn = tf.losses.SparseCategoricalCrossentropy(from_logits=True)"
      ],
      "execution_count": 0,
      "outputs": []
    },
    {
      "cell_type": "code",
      "metadata": {
        "id": "LxjB8hwbqowX",
        "colab_type": "code",
        "colab": {},
        "outputId": "e0ef5625-4c96-4d3c-bc33-b7b44aa17e4b"
      },
      "source": [
        "train_acc_metric = tf.keras.metrics.SparseCategoricalAccuracy()\n",
        "\n",
        "for step, (img_batch, lbl_batch) in enumerate(data):\n",
        "    if step > train_steps:\n",
        "        break\n",
        "\n",
        "    with tf.GradientTape() as tape:\n",
        "        logits = model(img_batch)\n",
        "        # loss format is generally: first argument targets, second argument outputs\n",
        "        xent = loss_fn(lbl_batch, logits)\n",
        "\n",
        "    # if you didn't build the model, it is important that you get the variables\n",
        "    # AFTER the model has been called the first time\n",
        "    varis = model.trainable_variables\n",
        "    grads = tape.gradient(xent, varis)\n",
        "      \n",
        "    opt.apply_gradients(zip(grads, varis))\n",
        "    \n",
        "    train_acc_metric(lbl_batch, logits)\n",
        "    \n",
        "    if not step % 100:\n",
        "        # this is different from before. there, we only evaluated accuracy\n",
        "        # for one batch. Now, we always average over 100 batches\n",
        "        print(\"Loss: {} Accuracy: {}\".format(xent, train_acc_metric.result()))\n",
        "        train_acc_metric.reset_states()"
      ],
      "execution_count": 0,
      "outputs": [
        {
          "output_type": "stream",
          "text": [
            "Loss: 2.3024916648864746 Accuracy: 0.078125\n",
            "Loss: 2.2120609283447266 Accuracy: 0.19617187976837158\n",
            "Loss: 2.1037721633911133 Accuracy: 0.28187501430511475\n",
            "Loss: 2.1298694610595703 Accuracy: 0.3235156238079071\n",
            "Loss: 2.1421315670013428 Accuracy: 0.33218318223953247\n",
            "Loss: 2.0674142837524414 Accuracy: 0.3639843761920929\n",
            "Loss: 2.0027928352355957 Accuracy: 0.37953126430511475\n",
            "Loss: 2.0276436805725098 Accuracy: 0.42476561665534973\n",
            "Loss: 2.031627655029297 Accuracy: 0.4427540898323059\n",
            "Loss: 1.9995372295379639 Accuracy: 0.462890625\n",
            "Loss: 1.9845643043518066 Accuracy: 0.47929686307907104\n",
            "Loss: 1.9684754610061646 Accuracy: 0.4881249964237213\n",
            "Loss: 1.9910218715667725 Accuracy: 0.5221925973892212\n",
            "Loss: 1.9158459901809692 Accuracy: 0.5106250047683716\n",
            "Loss: 1.9103682041168213 Accuracy: 0.5484374761581421\n",
            "Loss: 1.8779425621032715 Accuracy: 0.5567968487739563\n"
          ],
          "name": "stdout"
        }
      ]
    },
    {
      "cell_type": "markdown",
      "metadata": {
        "id": "UJDo8nTKqowa",
        "colab_type": "text"
      },
      "source": [
        "#### Sanity check"
      ]
    },
    {
      "cell_type": "code",
      "metadata": {
        "id": "7AzMhF1jqowa",
        "colab_type": "code",
        "colab": {},
        "outputId": "e05c079f-ab0d-4eac-d0a4-19a963842918"
      },
      "source": [
        "test_data = tf.data.Dataset.from_tensor_slices(\n",
        "    (test_images.reshape([-1, 32,32,3]).astype(np.float32) / 255, test_labels.astype(np.int32))).batch(128)\n",
        "\n",
        "test_acc_metric = tf.keras.metrics.SparseCategoricalAccuracy()\n",
        "for img_batch, lbl_batch in test_data:\n",
        "    test_acc_metric(lbl_batch, model(img_batch))\n",
        "print(\"Test acc: {}\".format(test_acc_metric.result()))"
      ],
      "execution_count": 0,
      "outputs": [
        {
          "output_type": "stream",
          "text": [
            "Test acc: 0.5756999850273132\n"
          ],
          "name": "stdout"
        }
      ]
    },
    {
      "cell_type": "markdown",
      "metadata": {
        "id": "M7yFbgBTqowd",
        "colab_type": "text"
      },
      "source": [
        "## Methods we tried\n",
        "\n",
        "- We tried combination of valid and same padding with the same configuration but the accuracy was lower \n",
        "- Used weight dropout, which resulted in increase in accuracy\n",
        "- When using without activation function in the output layer the accuracy was around ~77% (1500) but with softmax function it signifcantly decreased to ~56% (train accuracy)\n",
        "- Used Adam as an optimizer instead of Stochastic Gradient descent which resulted in ~10% increase in accuracy"
      ]
    },
    {
      "cell_type": "code",
      "metadata": {
        "id": "bTDKdrdwqowd",
        "colab_type": "code",
        "colab": {},
        "outputId": "ade30007-f0f1-4881-cad1-8b6ad1100a79"
      },
      "source": [
        "model.summary()"
      ],
      "execution_count": 0,
      "outputs": [
        {
          "output_type": "stream",
          "text": [
            "Model: \"sequential\"\n",
            "_________________________________________________________________\n",
            "Layer (type)                 Output Shape              Param #   \n",
            "=================================================================\n",
            "conv2d (Conv2D)              multiple                  1792      \n",
            "_________________________________________________________________\n",
            "conv2d_1 (Conv2D)            multiple                  36928     \n",
            "_________________________________________________________________\n",
            "max_pooling2d (MaxPooling2D) multiple                  0         \n",
            "_________________________________________________________________\n",
            "dropout (Dropout)            multiple                  0         \n",
            "_________________________________________________________________\n",
            "conv2d_2 (Conv2D)            multiple                  73856     \n",
            "_________________________________________________________________\n",
            "conv2d_3 (Conv2D)            multiple                  147584    \n",
            "_________________________________________________________________\n",
            "max_pooling2d_1 (MaxPooling2 multiple                  0         \n",
            "_________________________________________________________________\n",
            "dropout_1 (Dropout)          multiple                  0         \n",
            "_________________________________________________________________\n",
            "conv2d_4 (Conv2D)            multiple                  147584    \n",
            "_________________________________________________________________\n",
            "max_pooling2d_2 (MaxPooling2 multiple                  0         \n",
            "_________________________________________________________________\n",
            "conv2d_5 (Conv2D)            multiple                  295168    \n",
            "_________________________________________________________________\n",
            "max_pooling2d_3 (MaxPooling2 multiple                  0         \n",
            "_________________________________________________________________\n",
            "flatten (Flatten)            multiple                  0         \n",
            "_________________________________________________________________\n",
            "dense (Dense)                multiple                  10250     \n",
            "=================================================================\n",
            "Total params: 713,162\n",
            "Trainable params: 713,162\n",
            "Non-trainable params: 0\n",
            "_________________________________________________________________\n"
          ],
          "name": "stdout"
        }
      ]
    },
    {
      "cell_type": "code",
      "metadata": {
        "id": "Mn5EtTyZqowg",
        "colab_type": "code",
        "colab": {}
      },
      "source": [
        ""
      ],
      "execution_count": 0,
      "outputs": []
    },
    {
      "cell_type": "code",
      "metadata": {
        "id": "DdsYpKXtqowi",
        "colab_type": "code",
        "colab": {}
      },
      "source": [
        ""
      ],
      "execution_count": 0,
      "outputs": []
    },
    {
      "cell_type": "markdown",
      "metadata": {
        "id": "687rSXSaqowm",
        "colab_type": "text"
      },
      "source": [
        "## MNIST dataset "
      ]
    },
    {
      "cell_type": "code",
      "metadata": {
        "id": "bJrMzqLwqowm",
        "colab_type": "code",
        "colab": {},
        "outputId": "be5d614e-8cca-4f1d-fd1b-4548769b62d2"
      },
      "source": [
        "mnist = tf.keras.datasets.mnist\n",
        "(train_images, train_labels), (test_images, test_labels) = mnist.load_data()\n",
        "\n",
        "#(train_images, train_labels), (test_images, test_labels) = tf.keras.datasets.cifar10.load_data()\n",
        "\n",
        "print(train_labels[0])\n",
        "plt.imshow(train_images[0], cmap=\"Greys_r\")\n",
        "\n",
        "# first difference: data is not reshaped to 784 anymore, but 28x28x1\n",
        "# note the 1 color channel!! this is important\n",
        "data = tf.data.Dataset.from_tensor_slices(\n",
        "    (train_images.reshape([-1, 28, 28, 1]).astype(np.float32) / 255, train_labels.astype(np.int32)))\n",
        "data = data.shuffle(buffer_size=60000).batch(128).repeat()\n",
        "\n",
        "test_data = tf.data.Dataset.from_tensor_slices(\n",
        "    (test_images.reshape([-1, 28, 28, 1]).astype(np.float32) / 255, test_labels.astype(np.int32))).batch(10000)\n"
      ],
      "execution_count": 0,
      "outputs": [
        {
          "output_type": "stream",
          "text": [
            "5\n"
          ],
          "name": "stdout"
        },
        {
          "output_type": "display_data",
          "data": {
            "image/png": "[encoded data removed]",
            "text/plain": [
              "<Figure size 432x288 with 1 Axes>"
            ]
          },
          "metadata": {
            "tags": [],
            "needs_background": "light"
          }
        }
      ]
    },
    {
      "cell_type": "code",
      "metadata": {
        "id": "Q8NM2JEIqowp",
        "colab_type": "code",
        "colab": {}
      },
      "source": [
        "train_steps=1000\n",
        "\n",
        "layer_list =[\n",
        "    tf.keras.layers.Conv2D(128, 3, padding='valid', activation='relu', input_shape=(28, 28 ,1)),\n",
        "     tf.keras.layers.MaxPooling2D(pool_size=(2,2),strides=2),\n",
        "     tf.keras.layers.Conv2D(64, 3, padding='same', activation='relu'),\n",
        "     tf.keras.layers.MaxPooling2D(pool_size=(2,2),strides=2),\n",
        "     tf.keras.layers.Conv2D(32, 3, padding='same', activation='relu'),\n",
        "     tf.keras.layers.MaxPooling2D(pool_size=(2,2),strides=2),\n",
        "     tf.keras.layers.Flatten(),\n",
        "    tf.keras.layers.Dense(10)]\n",
        "   # Dense(1)]\n",
        "model = tf.keras.Sequential(layer_list)"
      ],
      "execution_count": 0,
      "outputs": []
    },
    {
      "cell_type": "code",
      "metadata": {
        "id": "rP6e-b2nqowr",
        "colab_type": "code",
        "colab": {}
      },
      "source": [
        "#compile model using accuracy to measure model performance\n",
        "#model.compile(optimizer='adam', loss='categorical_crossentropy', metrics=['accuracy'])\n",
        "\n",
        "\n",
        "# Adam makes things much smoother\n",
        "opt = tf.optimizers.Adam(0.01)\n",
        "# from_logits = True!! #neverforget\n",
        "loss_fn = tf.losses.SparseCategoricalCrossentropy(from_logits=True)"
      ],
      "execution_count": 0,
      "outputs": []
    },
    {
      "cell_type": "code",
      "metadata": {
        "id": "hQj8ICUaqowu",
        "colab_type": "code",
        "colab": {},
        "outputId": "e553733c-a219-4c84-9efd-fe56946d9e23"
      },
      "source": [
        "train_acc_metric = tf.keras.metrics.SparseCategoricalAccuracy()\n",
        "\n",
        "for step, (img_batch, lbl_batch) in enumerate(data):\n",
        "    if step > train_steps:\n",
        "        break\n",
        "\n",
        "    with tf.GradientTape() as tape:\n",
        "        logits = model(img_batch)\n",
        "        # loss format is generally: first argument targets, second argument outputs\n",
        "        xent = loss_fn(lbl_batch, logits)\n",
        "\n",
        "    # if you didn't build the model, it is important that you get the variables\n",
        "    # AFTER the model has been called the first time\n",
        "    varis = model.trainable_variables\n",
        "    grads = tape.gradient(xent, varis)\n",
        "      \n",
        "    opt.apply_gradients(zip(grads, varis))\n",
        "    \n",
        "    train_acc_metric(lbl_batch, logits)\n",
        "    \n",
        "    if not step % 100:\n",
        "        # this is different from before. there, we only evaluated accuracy\n",
        "        # for one batch. Now, we always average over 100 batches\n",
        "        print(\"Loss: {} Accuracy: {}\".format(xent, train_acc_metric.result()))\n",
        "        train_acc_metric.reset_states()"
      ],
      "execution_count": 0,
      "outputs": [
        {
          "output_type": "stream",
          "text": [
            "Loss: 2.2913389205932617 Accuracy: 0.109375\n",
            "Loss: 0.1638101041316986 Accuracy: 0.7582031488418579\n",
            "Loss: 0.06666335463523865 Accuracy: 0.9578906297683716\n",
            "Loss: 0.12947236001491547 Accuracy: 0.9654687643051147\n",
            "Loss: 0.046500422060489655 Accuracy: 0.9739062786102295\n",
            "Loss: 0.07407531887292862 Accuracy: 0.973919153213501\n",
            "Loss: 0.038855329155921936 Accuracy: 0.979687511920929\n",
            "Loss: 0.051047433167696 Accuracy: 0.98046875\n",
            "Loss: 0.03440622240304947 Accuracy: 0.9801562428474426\n",
            "Loss: 0.046908702701330185 Accuracy: 0.9797656536102295\n",
            "Loss: 0.09307347983121872 Accuracy: 0.981203019618988\n"
          ],
          "name": "stdout"
        }
      ]
    },
    {
      "cell_type": "code",
      "metadata": {
        "id": "OVs2nuezqoww",
        "colab_type": "code",
        "colab": {},
        "outputId": "b9de1bba-570e-4a6d-888a-ed0841ea19e3"
      },
      "source": [
        "\n",
        "test_acc_metric = tf.keras.metrics.SparseCategoricalAccuracy()\n",
        "for img_batch, lbl_batch in test_data:\n",
        "    test_acc_metric(lbl_batch, model(img_batch))\n",
        "print(\"Test acc: {}\".format(test_acc_metric.result()))\n"
      ],
      "execution_count": 0,
      "outputs": [
        {
          "output_type": "stream",
          "text": [
            "Test acc: 0.9858999848365784\n"
          ],
          "name": "stdout"
        }
      ]
    },
    {
      "cell_type": "markdown",
      "metadata": {
        "id": "9O0nyb45qow0",
        "colab_type": "text"
      },
      "source": [
        "#### using MNIST dataset without  'softmax' results in accof 98% while when activation used hardly 57-58% acc is acheived"
      ]
    }
  ]
}